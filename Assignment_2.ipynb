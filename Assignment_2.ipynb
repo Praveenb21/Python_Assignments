{
 "cells": [
  {
   "cell_type": "markdown",
   "id": "e97359b5-ae24-417c-ab2e-4803a1f9628c",
   "metadata": {},
   "source": [
    "NumPy Assignment Questions"
   ]
  },
  {
   "cell_type": "markdown",
   "id": "d318f75c-10aa-49fe-8fb4-20f5ae8c8daa",
   "metadata": {},
   "source": [
    "Data Types & Attributes"
   ]
  },
  {
   "cell_type": "markdown",
   "id": "9cfbcc89-02c5-4c76-ad2d-d186c979eacb",
   "metadata": {},
   "source": [
    "1. Create a NumPy array arr of integers from 0 to 5 and print its data type."
   ]
  },
  {
   "cell_type": "code",
   "execution_count": 8,
   "id": "9dd65454-d96d-49ad-9e4b-984f6571d0de",
   "metadata": {},
   "outputs": [
    {
     "name": "stdin",
     "output_type": "stream",
     "text": [
      "Enter integers separated by space (0–5):  0 1 2 3 4 5\n"
     ]
    },
    {
     "name": "stdout",
     "output_type": "stream",
     "text": [
      "int32\n"
     ]
    }
   ],
   "source": [
    "import numpy as np\n",
    "arr1 = np.array(list(map(int, input(\"Enter integers separated by space (0–5): \").split())))\n",
    "print(arr1.dtype)"
   ]
  },
  {
   "cell_type": "markdown",
   "id": "bfdfb1db-d981-4b9c-bc21-45486d834659",
   "metadata": {},
   "source": [
    "2. Given a NumPy array arr, check if its data type is float64."
   ]
  },
  {
   "cell_type": "code",
   "execution_count": 11,
   "id": "e4a18d5e-915b-42cb-952f-56bca8027fda",
   "metadata": {},
   "outputs": [
    {
     "name": "stdin",
     "output_type": "stream",
     "text": [
      "Enter float numbers:  1.1 2.2 3.3\n"
     ]
    },
    {
     "name": "stdout",
     "output_type": "stream",
     "text": [
      "True\n"
     ]
    }
   ],
   "source": [
    "arr2 = np.array(list(map(float, input(\"Enter float numbers: \").split())))\n",
    "print(arr2.dtype == np.float64)"
   ]
  },
  {
   "cell_type": "markdown",
   "id": "26177983-d486-41a1-bced-8300fa9071c8",
   "metadata": {},
   "source": [
    "3. Create a NumPy array arr with a data type of complex128 containing three\n",
    "complex numbers."
   ]
  },
  {
   "cell_type": "code",
   "execution_count": 14,
   "id": "ec6a909d-2739-4c1d-9721-a0db2b40a857",
   "metadata": {},
   "outputs": [
    {
     "name": "stdin",
     "output_type": "stream",
     "text": [
      "Enter 3 complex numbers (e.g., 1+2j 3+4j 5+6j):  1+2j 3+4j 5+6j\n"
     ]
    },
    {
     "name": "stdout",
     "output_type": "stream",
     "text": [
      "[1.+2.j 3.+4.j 5.+6.j]\n",
      "complex128\n"
     ]
    }
   ],
   "source": [
    "arr3 = np.array([complex(x) for x in input(\"Enter 3 complex numbers (e.g., 1+2j 3+4j 5+6j): \").split()], dtype=np.complex128)\n",
    "print(arr3)\n",
    "print(arr3.dtype)"
   ]
  },
  {
   "cell_type": "markdown",
   "id": "7bc5cf09-ae0e-4852-80a0-1c909f6ae28c",
   "metadata": {},
   "source": [
    "4. Convert an existing NumPy array arr of integers to float32 data type."
   ]
  },
  {
   "cell_type": "code",
   "execution_count": 16,
   "id": "d4e5c008-02ff-4141-b9c8-a8bc000bbe16",
   "metadata": {},
   "outputs": [
    {
     "name": "stdin",
     "output_type": "stream",
     "text": [
      "Enter integers:  10 20 30\n"
     ]
    },
    {
     "name": "stdout",
     "output_type": "stream",
     "text": [
      "[10. 20. 30.]\n",
      "float32\n"
     ]
    }
   ],
   "source": [
    "arr4 = np.array(list(map(int, input(\"Enter integers: \").split())))\n",
    "arr4 = arr4.astype(np.float32)\n",
    "print(arr4)\n",
    "print(arr4.dtype)"
   ]
  },
  {
   "cell_type": "markdown",
   "id": "78927df0-b7b1-4449-b26c-7d4f5355db87",
   "metadata": {},
   "source": [
    "5. Given a NumPy array arr with float64 data type, convert it to float32 to reduce\n",
    "decimal precision."
   ]
  },
  {
   "cell_type": "code",
   "execution_count": 22,
   "id": "d2adb99a-1109-4caa-a879-15a00cfade6e",
   "metadata": {},
   "outputs": [
    {
     "name": "stdin",
     "output_type": "stream",
     "text": [
      "Enter float64 numbers:  1.123456789 2.987654321\n"
     ]
    },
    {
     "name": "stdout",
     "output_type": "stream",
     "text": [
      "[1.1234568 2.9876542]\n"
     ]
    }
   ],
   "source": [
    "arr5 = np.array(list(map(float, input(\"Enter float64 numbers: \").split())), dtype=np.float64)\n",
    "arr5 = arr5.astype(np.float32)\n",
    "print(arr5)"
   ]
  },
  {
   "cell_type": "markdown",
   "id": "64e83101-9a49-4a0f-879c-d6122eb1ed17",
   "metadata": {},
   "source": [
    "6. Write a function array_attributes that takes a NumPy array as input and returns\n",
    "its shape, size, and data type."
   ]
  },
  {
   "cell_type": "code",
   "execution_count": 33,
   "id": "d0a51f5b-b5a4-4efc-9d07-70b5543b954a",
   "metadata": {},
   "outputs": [
    {
     "name": "stdin",
     "output_type": "stream",
     "text": [
      "Enter number of rows:  2\n",
      "Enter number of columns:  2\n",
      "Enter 2 integers for row 1:  1 2 \n",
      "Enter 2 integers for row 2:  31 21\n"
     ]
    },
    {
     "name": "stdout",
     "output_type": "stream",
     "text": [
      "((2, 2), 4, dtype('int32'))\n"
     ]
    }
   ],
   "source": [
    "def array_attributes(arr):\n",
    "    return arr.shape, arr.size, arr.dtype\n",
    "r = int(input(\"Enter number of rows: \"))\n",
    "c = int(input(\"Enter number of columns: \"))\n",
    "arr = np.array([list(map(int, input(f\"Enter {c} integers for row {i+1}: \").split())) for i in range(r)])\n",
    "print(array_attributes(arr))"
   ]
  },
  {
   "cell_type": "markdown",
   "id": "1bebe0c7-d52f-4ee5-b97f-6393cecf7183",
   "metadata": {},
   "source": [
    "7. Create a function array_dimension that returns the dimensionality of a NumPy\n",
    "array."
   ]
  },
  {
   "cell_type": "code",
   "execution_count": 35,
   "id": "fca395a0-2b4f-4de7-82b1-15d11b14dfd3",
   "metadata": {},
   "outputs": [
    {
     "name": "stdin",
     "output_type": "stream",
     "text": [
      "Enter a nested list (e.g., [[1,2],[3,4]]):  [[1,2],[3,4]]\n"
     ]
    },
    {
     "name": "stdout",
     "output_type": "stream",
     "text": [
      "2\n"
     ]
    }
   ],
   "source": [
    "def array_dimension(arr):\n",
    "    return arr.ndim\n",
    "arr = np.array(eval(input(\"Enter a nested list (e.g., [[1,2],[3,4]]): \")))\n",
    "print(array_dimension(arr))"
   ]
  },
  {
   "cell_type": "markdown",
   "id": "f7ff9aef-7b65-4135-828c-684d8c7ad6f6",
   "metadata": {},
   "source": [
    "8. Design a function item_size_info that returns the item size and total size in bytes\n",
    "of a NumPy array."
   ]
  },
  {
   "cell_type": "code",
   "execution_count": 37,
   "id": "6ce5da66-ab2d-47d7-8035-7387700fb6e4",
   "metadata": {},
   "outputs": [
    {
     "name": "stdin",
     "output_type": "stream",
     "text": [
      "Enter integers:  10 20 30\n"
     ]
    },
    {
     "name": "stdout",
     "output_type": "stream",
     "text": [
      "(4, 12)\n"
     ]
    }
   ],
   "source": [
    "def item_size_info(arr):\n",
    "    return arr.itemsize, arr.nbytes\n",
    "arr = np.array(list(map(int, input(\"Enter integers: \").split())), dtype=np.int32)\n",
    "print(item_size_info(arr))"
   ]
  },
  {
   "cell_type": "markdown",
   "id": "dbcc96aa-f4c0-45d3-81d9-181a4d874cf6",
   "metadata": {},
   "source": [
    "9. Create a function array_strides that returns the strides of the given NumPy array."
   ]
  },
  {
   "cell_type": "code",
   "execution_count": 39,
   "id": "52a5b3d3-ec8d-48d2-a367-f7ff3100f418",
   "metadata": {},
   "outputs": [
    {
     "name": "stdin",
     "output_type": "stream",
     "text": [
      "Enter number of rows:  2\n",
      "Enter number of columns:  2\n",
      "Enter 2 integers for row 1:  1 2 \n",
      "Enter 2 integers for row 2:  3 4\n"
     ]
    },
    {
     "name": "stdout",
     "output_type": "stream",
     "text": [
      "(8, 4)\n"
     ]
    }
   ],
   "source": [
    "def array_strides(arr):\n",
    "    return arr.strides\n",
    "r = int(input(\"Enter number of rows: \"))\n",
    "c = int(input(\"Enter number of columns: \"))\n",
    "arr = np.array([list(map(int, input(f\"Enter {c} integers for row {i+1}: \").split())) for i in range(r)], dtype=np.int32)\n",
    "print(array_strides(arr))"
   ]
  },
  {
   "cell_type": "markdown",
   "id": "ffd84b75-fcf2-424c-9093-9048d1c99303",
   "metadata": {},
   "source": [
    "10. Design a function shape_stride_relationship that returns the shape and\n",
    "strides of the given array."
   ]
  },
  {
   "cell_type": "code",
   "execution_count": 41,
   "id": "d107d008-4f6b-4e98-ab6e-f432bc5b3a26",
   "metadata": {},
   "outputs": [
    {
     "name": "stdin",
     "output_type": "stream",
     "text": [
      "Enter number of rows:  3\n",
      "Enter number of columns:  3\n"
     ]
    },
    {
     "name": "stdout",
     "output_type": "stream",
     "text": [
      "((3, 3), (24, 8))\n"
     ]
    }
   ],
   "source": [
    " def shape_stride_relationship(arr):\n",
    "    return arr.shape, arr.strides\n",
    "r = int(input(\"Enter number of rows: \"))\n",
    "c = int(input(\"Enter number of columns: \"))\n",
    "arr = np.ones((r, c), dtype=np.float64)\n",
    "print(shape_stride_relationship(arr))"
   ]
  },
  {
   "cell_type": "markdown",
   "id": "b37fccc0-24e4-459f-b152-3cc5ff635db1",
   "metadata": {},
   "source": [
    "Array Creation"
   ]
  },
  {
   "cell_type": "markdown",
   "id": "7b705b7c-611e-431a-a521-76cba96efe9c",
   "metadata": {},
   "source": [
    "11. Create a function create_zeros_array(n) to return a NumPy array of zeros with\n",
    "n elements."
   ]
  },
  {
   "cell_type": "code",
   "execution_count": 57,
   "id": "f931084a-48bc-40a8-b4ef-6152966f7cab",
   "metadata": {},
   "outputs": [
    {
     "name": "stdin",
     "output_type": "stream",
     "text": [
      "Enter number of elements:  5\n"
     ]
    },
    {
     "name": "stdout",
     "output_type": "stream",
     "text": [
      "[0. 0. 0. 0. 0.]\n"
     ]
    }
   ],
   "source": [
    "def create_zeros_array(n):\n",
    "    return np.zeros(n)\n",
    "n = int(input(\"Enter number of elements: \"))\n",
    "print(create_zeros_array(n))"
   ]
  },
  {
   "cell_type": "markdown",
   "id": "7e4be783-c737-4618-a6bb-fe635d4ad828",
   "metadata": {},
   "source": [
    "12. Write a function create_ones_matrix(rows, cols) to create a 2D array filled\n",
    "with ones."
   ]
  },
  {
   "cell_type": "code",
   "execution_count": 55,
   "id": "93caa11e-9177-4e72-bd0a-7835fc8c8a6d",
   "metadata": {},
   "outputs": [
    {
     "name": "stdin",
     "output_type": "stream",
     "text": [
      "Enter number of rows:  2\n",
      "Enter number of columns:  2\n"
     ]
    },
    {
     "name": "stdout",
     "output_type": "stream",
     "text": [
      "[[1. 1.]\n",
      " [1. 1.]]\n"
     ]
    }
   ],
   "source": [
    "def create_ones_matrix(rows, cols):\n",
    "    return np.ones((rows, cols))\n",
    "rows = int(input(\"Enter number of rows: \"))\n",
    "cols = int(input(\"Enter number of columns: \"))\n",
    "print(create_ones_matrix(rows, cols))"
   ]
  },
  {
   "cell_type": "markdown",
   "id": "9fed8dab-9af3-47b3-b84b-5dcc9e531352",
   "metadata": {},
   "source": [
    "13. Write a function generate_range_array(start, stop, step) to create a\n",
    "ranged NumPy array."
   ]
  },
  {
   "cell_type": "code",
   "execution_count": 50,
   "id": "84a535d1-e6b0-433c-af03-024d51047906",
   "metadata": {},
   "outputs": [
    {
     "name": "stdin",
     "output_type": "stream",
     "text": [
      "Enter start:  2\n",
      "Enter stop:  12\n",
      "Enter step:  2\n"
     ]
    },
    {
     "name": "stdout",
     "output_type": "stream",
     "text": [
      "[ 2  4  6  8 10]\n"
     ]
    }
   ],
   "source": [
    "def generate_range_array(start, stop, step):\n",
    "    return np.arange(start, stop, step)\n",
    "start = int(input(\"Enter start: \"))\n",
    "stop = int(input(\"Enter stop: \"))\n",
    "step = int(input(\"Enter step: \"))\n",
    "print(generate_range_array(start, stop, step))"
   ]
  },
  {
   "cell_type": "code",
   "execution_count": null,
   "id": "7c212e0b-542f-489a-ab92-a006866dace0",
   "metadata": {},
   "outputs": [],
   "source": []
  },
  {
   "cell_type": "code",
   "execution_count": null,
   "id": "32f87148-526f-45d4-90b3-03d7c2d9b25d",
   "metadata": {},
   "outputs": [],
   "source": []
  },
  {
   "cell_type": "code",
   "execution_count": null,
   "id": "e09723a4-ecef-4c2d-bd83-ea3d4c39895a",
   "metadata": {},
   "outputs": [],
   "source": []
  },
  {
   "cell_type": "code",
   "execution_count": null,
   "id": "f64f76be-974e-415f-bf96-a459b4c9c792",
   "metadata": {},
   "outputs": [],
   "source": []
  },
  {
   "cell_type": "code",
   "execution_count": null,
   "id": "e5b3017a-ae4f-4632-ac52-be57ac3be088",
   "metadata": {},
   "outputs": [],
   "source": []
  },
  {
   "cell_type": "code",
   "execution_count": null,
   "id": "d597a1ca-9e8c-4cb4-abec-70f365216c71",
   "metadata": {},
   "outputs": [],
   "source": []
  },
  {
   "cell_type": "code",
   "execution_count": null,
   "id": "f4958f9b-067f-49bc-89e5-1545758b9a69",
   "metadata": {},
   "outputs": [],
   "source": []
  },
  {
   "cell_type": "code",
   "execution_count": null,
   "id": "e1e96b9a-fb74-49c0-a33f-e6b6dcd4e1a4",
   "metadata": {},
   "outputs": [],
   "source": []
  }
 ],
 "metadata": {
  "kernelspec": {
   "display_name": "Python 3 (ipykernel)",
   "language": "python",
   "name": "python3"
  },
  "language_info": {
   "codemirror_mode": {
    "name": "ipython",
    "version": 3
   },
   "file_extension": ".py",
   "mimetype": "text/x-python",
   "name": "python",
   "nbconvert_exporter": "python",
   "pygments_lexer": "ipython3",
   "version": "3.12.7"
  }
 },
 "nbformat": 4,
 "nbformat_minor": 5
}
