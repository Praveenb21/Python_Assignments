{
 "cells": [
  {
   "cell_type": "markdown",
   "id": "e97359b5-ae24-417c-ab2e-4803a1f9628c",
   "metadata": {},
   "source": [
    "NumPy Assignment Questions"
   ]
  },
  {
   "cell_type": "markdown",
   "id": "d318f75c-10aa-49fe-8fb4-20f5ae8c8daa",
   "metadata": {},
   "source": [
    "Data Types & Attributes"
   ]
  },
  {
   "cell_type": "markdown",
   "id": "9cfbcc89-02c5-4c76-ad2d-d186c979eacb",
   "metadata": {},
   "source": [
    "1. Create a NumPy array arr of integers from 0 to 5 and print its data type."
   ]
  },
  {
   "cell_type": "code",
   "execution_count": 8,
   "id": "9dd65454-d96d-49ad-9e4b-984f6571d0de",
   "metadata": {},
   "outputs": [
    {
     "name": "stdin",
     "output_type": "stream",
     "text": [
      "Enter integers separated by space (0–5):  0 1 2 3 4 5\n"
     ]
    },
    {
     "name": "stdout",
     "output_type": "stream",
     "text": [
      "int32\n"
     ]
    }
   ],
   "source": [
    "import numpy as np\n",
    "arr1 = np.array(list(map(int, input(\"Enter integers separated by space (0–5): \").split())))\n",
    "print(arr1.dtype) "
   ]
  },
  {
   "cell_type": "markdown",
   "id": "bfdfb1db-d981-4b9c-bc21-45486d834659",
   "metadata": {},
   "source": [
    "2. Given a NumPy array arr, check if its data type is float64."
   ]
  },
  {
   "cell_type": "code",
   "execution_count": 11,
   "id": "e4a18d5e-915b-42cb-952f-56bca8027fda",
   "metadata": {},
   "outputs": [
    {
     "name": "stdin",
     "output_type": "stream",
     "text": [
      "Enter float numbers:  1.1 2.2 3.3\n"
     ]
    },
    {
     "name": "stdout",
     "output_type": "stream",
     "text": [
      "True\n"
     ]
    }
   ],
   "source": [
    "arr2 = np.array(list(map(float, input(\"Enter float numbers: \").split())))\n",
    "print(arr2.dtype == np.float64)"
   ]
  },
  {
   "cell_type": "markdown",
   "id": "26177983-d486-41a1-bced-8300fa9071c8",
   "metadata": {},
   "source": [
    "3. Create a NumPy array arr with a data type of complex128 containing three\n",
    "complex numbers."
   ]
  },
  {
   "cell_type": "code",
   "execution_count": 14,
   "id": "ec6a909d-2739-4c1d-9721-a0db2b40a857",
   "metadata": {},
   "outputs": [
    {
     "name": "stdin",
     "output_type": "stream",
     "text": [
      "Enter 3 complex numbers (e.g., 1+2j 3+4j 5+6j):  1+2j 3+4j 5+6j\n"
     ]
    },
    {
     "name": "stdout",
     "output_type": "stream",
     "text": [
      "[1.+2.j 3.+4.j 5.+6.j]\n",
      "complex128\n"
     ]
    }
   ],
   "source": [
    "arr3 = np.array([complex(x) for x in input(\"Enter 3 complex numbers (e.g., 1+2j 3+4j 5+6j): \").split()], dtype=np.complex128)\n",
    "print(arr3)\n",
    "print(arr3.dtype)"
   ]
  },
  {
   "cell_type": "markdown",
   "id": "7bc5cf09-ae0e-4852-80a0-1c909f6ae28c",
   "metadata": {},
   "source": [
    "4. Convert an existing NumPy array arr of integers to float32 data type."
   ]
  },
  {
   "cell_type": "code",
   "execution_count": 16,
   "id": "d4e5c008-02ff-4141-b9c8-a8bc000bbe16",
   "metadata": {},
   "outputs": [
    {
     "name": "stdin",
     "output_type": "stream",
     "text": [
      "Enter integers:  10 20 30\n"
     ]
    },
    {
     "name": "stdout",
     "output_type": "stream",
     "text": [
      "[10. 20. 30.]\n",
      "float32\n"
     ]
    }
   ],
   "source": [
    "arr4 = np.array(list(map(int, input(\"Enter integers: \").split())))\n",
    "arr4 = arr4.astype(np.float32)\n",
    "print(arr4)\n",
    "print(arr4.dtype)"
   ]
  },
  {
   "cell_type": "markdown",
   "id": "78927df0-b7b1-4449-b26c-7d4f5355db87",
   "metadata": {},
   "source": [
    "5. Given a NumPy array arr with float64 data type, convert it to float32 to reduce\n",
    "decimal precision."
   ]
  },
  {
   "cell_type": "code",
   "execution_count": 22,
   "id": "d2adb99a-1109-4caa-a879-15a00cfade6e",
   "metadata": {},
   "outputs": [
    {
     "name": "stdin",
     "output_type": "stream",
     "text": [
      "Enter float64 numbers:  1.123456789 2.987654321\n"
     ]
    },
    {
     "name": "stdout",
     "output_type": "stream",
     "text": [
      "[1.1234568 2.9876542]\n"
     ]
    }
   ],
   "source": [
    "arr5 = np.array(list(map(float, input(\"Enter float64 numbers: \").split())), dtype=np.float64)\n",
    "arr5 = arr5.astype(np.float32)\n",
    "print(arr5)"
   ]
  },
  {
   "cell_type": "markdown",
   "id": "64e83101-9a49-4a0f-879c-d6122eb1ed17",
   "metadata": {},
   "source": [
    "6. Write a function array_attributes that takes a NumPy array as input and returns\n",
    "its shape, size, and data type."
   ]
  },
  {
   "cell_type": "code",
   "execution_count": 33,
   "id": "d0a51f5b-b5a4-4efc-9d07-70b5543b954a",
   "metadata": {},
   "outputs": [
    {
     "name": "stdin",
     "output_type": "stream",
     "text": [
      "Enter number of rows:  2\n",
      "Enter number of columns:  2\n",
      "Enter 2 integers for row 1:  1 2 \n",
      "Enter 2 integers for row 2:  31 21\n"
     ]
    },
    {
     "name": "stdout",
     "output_type": "stream",
     "text": [
      "((2, 2), 4, dtype('int32'))\n"
     ]
    }
   ],
   "source": [
    "def array_attributes(arr):\n",
    "    return arr.shape, arr.size, arr.dtype\n",
    "r = int(input(\"Enter number of rows: \"))\n",
    "c = int(input(\"Enter number of columns: \"))\n",
    "arr = np.array([list(map(int, input(f\"Enter {c} integers for row {i+1}: \").split())) for i in range(r)])\n",
    "print(array_attributes(arr))"
   ]
  },
  {
   "cell_type": "markdown",
   "id": "1bebe0c7-d52f-4ee5-b97f-6393cecf7183",
   "metadata": {},
   "source": [
    "7. Create a function array_dimension that returns the dimensionality of a NumPy\n",
    "array."
   ]
  },
  {
   "cell_type": "code",
   "execution_count": 35,
   "id": "fca395a0-2b4f-4de7-82b1-15d11b14dfd3",
   "metadata": {},
   "outputs": [
    {
     "name": "stdin",
     "output_type": "stream",
     "text": [
      "Enter a nested list (e.g., [[1,2],[3,4]]):  [[1,2],[3,4]]\n"
     ]
    },
    {
     "name": "stdout",
     "output_type": "stream",
     "text": [
      "2\n"
     ]
    }
   ],
   "source": [
    "def array_dimension(arr):\n",
    "    return arr.ndim\n",
    "arr = np.array(eval(input(\"Enter a nested list (e.g., [[1,2],[3,4]]): \")))\n",
    "print(array_dimension(arr))"
   ]
  },
  {
   "cell_type": "markdown",
   "id": "f7ff9aef-7b65-4135-828c-684d8c7ad6f6",
   "metadata": {},
   "source": [
    "8. Design a function item_size_info that returns the item size and total size in bytes\n",
    "of a NumPy array."
   ]
  },
  {
   "cell_type": "code",
   "execution_count": 37,
   "id": "6ce5da66-ab2d-47d7-8035-7387700fb6e4",
   "metadata": {},
   "outputs": [
    {
     "name": "stdin",
     "output_type": "stream",
     "text": [
      "Enter integers:  10 20 30\n"
     ]
    },
    {
     "name": "stdout",
     "output_type": "stream",
     "text": [
      "(4, 12)\n"
     ]
    }
   ],
   "source": [
    "def item_size_info(arr):\n",
    "    return arr.itemsize, arr.nbytes\n",
    "arr = np.array(list(map(int, input(\"Enter integers: \").split())), dtype=np.int32)\n",
    "print(item_size_info(arr))"
   ]
  },
  {
   "cell_type": "markdown",
   "id": "dbcc96aa-f4c0-45d3-81d9-181a4d874cf6",
   "metadata": {},
   "source": [
    "9. Create a function array_strides that returns the strides of the given NumPy array."
   ]
  },
  {
   "cell_type": "code",
   "execution_count": 39,
   "id": "52a5b3d3-ec8d-48d2-a367-f7ff3100f418",
   "metadata": {},
   "outputs": [
    {
     "name": "stdin",
     "output_type": "stream",
     "text": [
      "Enter number of rows:  2\n",
      "Enter number of columns:  2\n",
      "Enter 2 integers for row 1:  1 2 \n",
      "Enter 2 integers for row 2:  3 4\n"
     ]
    },
    {
     "name": "stdout",
     "output_type": "stream",
     "text": [
      "(8, 4)\n"
     ]
    }
   ],
   "source": [
    "def array_strides(arr):\n",
    "    return arr.strides\n",
    "r = int(input(\"Enter number of rows: \"))\n",
    "c = int(input(\"Enter number of columns: \"))\n",
    "arr = np.array([list(map(int, input(f\"Enter {c} integers for row {i+1}: \").split())) for i in range(r)], dtype=np.int32)\n",
    "print(array_strides(arr))"
   ]
  },
  {
   "cell_type": "markdown",
   "id": "ffd84b75-fcf2-424c-9093-9048d1c99303",
   "metadata": {},
   "source": [
    "10. Design a function shape_stride_relationship that returns the shape and\n",
    "strides of the given array."
   ]
  },
  {
   "cell_type": "code",
   "execution_count": 41,
   "id": "d107d008-4f6b-4e98-ab6e-f432bc5b3a26",
   "metadata": {},
   "outputs": [
    {
     "name": "stdin",
     "output_type": "stream",
     "text": [
      "Enter number of rows:  3\n",
      "Enter number of columns:  3\n"
     ]
    },
    {
     "name": "stdout",
     "output_type": "stream",
     "text": [
      "((3, 3), (24, 8))\n"
     ]
    }
   ],
   "source": [
    " def shape_stride_relationship(arr):\n",
    "    return arr.shape, arr.strides\n",
    "r = int(input(\"Enter number of rows: \"))\n",
    "c = int(input(\"Enter number of columns: \"))\n",
    "arr = np.ones((r, c), dtype=np.float64)\n",
    "print(shape_stride_relationship(arr))"
   ]
  },
  {
   "cell_type": "markdown",
   "id": "b37fccc0-24e4-459f-b152-3cc5ff635db1",
   "metadata": {},
   "source": [
    "Array Creation"
   ]
  },
  {
   "cell_type": "markdown",
   "id": "7b705b7c-611e-431a-a521-76cba96efe9c",
   "metadata": {},
   "source": [
    "11. Create a function create_zeros_array(n) to return a NumPy array of zeros with\n",
    "n elements."
   ]
  },
  {
   "cell_type": "code",
   "execution_count": 57,
   "id": "f931084a-48bc-40a8-b4ef-6152966f7cab",
   "metadata": {},
   "outputs": [
    {
     "name": "stdin",
     "output_type": "stream",
     "text": [
      "Enter number of elements:  5\n"
     ]
    },
    {
     "name": "stdout",
     "output_type": "stream",
     "text": [
      "[0. 0. 0. 0. 0.]\n"
     ]
    }
   ],
   "source": [
    "def create_zeros_array(n):\n",
    "    return np.zeros(n)\n",
    "n = int(input(\"Enter number of elements: \"))\n",
    "print(create_zeros_array(n))"
   ]
  },
  {
   "cell_type": "markdown",
   "id": "7e4be783-c737-4618-a6bb-fe635d4ad828",
   "metadata": {},
   "source": [
    "12. Write a function create_ones_matrix(rows, cols) to create a 2D array filled\n",
    "with ones."
   ]
  },
  {
   "cell_type": "code",
   "execution_count": 55,
   "id": "93caa11e-9177-4e72-bd0a-7835fc8c8a6d",
   "metadata": {},
   "outputs": [
    {
     "name": "stdin",
     "output_type": "stream",
     "text": [
      "Enter number of rows:  2\n",
      "Enter number of columns:  2\n"
     ]
    },
    {
     "name": "stdout",
     "output_type": "stream",
     "text": [
      "[[1. 1.]\n",
      " [1. 1.]]\n"
     ]
    }
   ],
   "source": [
    "def create_ones_matrix(rows, cols):\n",
    "    return np.ones((rows, cols))\n",
    "rows = int(input(\"Enter number of rows: \"))\n",
    "cols = int(input(\"Enter number of columns: \"))\n",
    "print(create_ones_matrix(rows, cols))"
   ]
  },
  {
   "cell_type": "markdown",
   "id": "9fed8dab-9af3-47b3-b84b-5dcc9e531352",
   "metadata": {},
   "source": [
    "13. Write a function generate_range_array(start, stop, step) to create a\n",
    "ranged NumPy array."
   ]
  },
  {
   "cell_type": "code",
   "execution_count": 59,
   "id": "84a535d1-e6b0-433c-af03-024d51047906",
   "metadata": {},
   "outputs": [
    {
     "name": "stdin",
     "output_type": "stream",
     "text": [
      "Enter start:  2\n",
      "Enter stop:  10\n",
      "Enter step:  2\n"
     ]
    },
    {
     "name": "stdout",
     "output_type": "stream",
     "text": [
      "[2 4 6 8]\n"
     ]
    }
   ],
   "source": [
    "def generate_range_array(start, stop, step):\n",
    "    return np.arange(start, stop, step)\n",
    "start = int(input(\"Enter start: \"))\n",
    "stop = int(input(\"Enter stop: \"))\n",
    "step = int(input(\"Enter step: \"))\n",
    "print(generate_range_array(start, stop, step))"
   ]
  },
  {
   "cell_type": "markdown",
   "id": "6a770cdb-5656-4b07-93c4-a8d895f81d20",
   "metadata": {},
   "source": [
    "14. Design a function generate_linear_space(start, stop, num) for equally\n",
    "spaced values."
   ]
  },
  {
   "cell_type": "code",
   "execution_count": 65,
   "id": "32f87148-526f-45d4-90b3-03d7c2d9b25d",
   "metadata": {},
   "outputs": [
    {
     "name": "stdin",
     "output_type": "stream",
     "text": [
      "Enter the start value:  2\n",
      "Enter the stop value:  15\n",
      "Enter the number of values:  5\n"
     ]
    },
    {
     "name": "stdout",
     "output_type": "stream",
     "text": [
      "Linear Space: [ 2.    5.25  8.5  11.75 15.  ]\n"
     ]
    }
   ],
   "source": [
    "def generate_linear_space():\n",
    "    start = float(input(\"Enter the start value: \"))\n",
    "    stop = float(input(\"Enter the stop value: \"))\n",
    "    num = int(input(\"Enter the number of values: \"))\n",
    "    result = np.linspace(start, stop, num)\n",
    "    print(\"Linear Space:\", result)\n",
    "generate_linear_space()"
   ]
  },
  {
   "cell_type": "markdown",
   "id": "46cddc42-4e9a-4641-8a76-b3768ad1a276",
   "metadata": {},
   "source": [
    "15. Create a function create_identity_matrix(n) using numpy.eye."
   ]
  },
  {
   "cell_type": "code",
   "execution_count": 77,
   "id": "f64f76be-974e-415f-bf96-a459b4c9c792",
   "metadata": {},
   "outputs": [
    {
     "name": "stdin",
     "output_type": "stream",
     "text": [
      "Enter size of identity matrix:  4\n"
     ]
    },
    {
     "name": "stdout",
     "output_type": "stream",
     "text": [
      "[[1. 0. 0. 0.]\n",
      " [0. 1. 0. 0.]\n",
      " [0. 0. 1. 0.]\n",
      " [0. 0. 0. 1.]]\n"
     ]
    }
   ],
   "source": [
    "def create_identity_matrix(n):\n",
    "    return np.eye(n)\n",
    "n = int(input(\"Enter size of identity matrix: \"))\n",
    "print(create_identity_matrix(n))"
   ]
  },
  {
   "cell_type": "markdown",
   "id": "54fe88be-fd60-4043-9c3e-a20c388b0e72",
   "metadata": {},
   "source": [
    "16. Write a function that converts a Python list into a NumPy array."
   ]
  },
  {
   "cell_type": "code",
   "execution_count": 81,
   "id": "d597a1ca-9e8c-4cb4-abec-70f365216c71",
   "metadata": {},
   "outputs": [
    {
     "name": "stdin",
     "output_type": "stream",
     "text": [
      "Enter a Python list (e.g., [1, 2, 3, 4]):  [10, 20, 30]\n"
     ]
    },
    {
     "name": "stdout",
     "output_type": "stream",
     "text": [
      "[10 20 30]\n"
     ]
    }
   ],
   "source": [
    "def convert_list_to_array(lst):\n",
    "    return np.array(lst)\n",
    "lst = eval(input(\"Enter a Python list (e.g., [1, 2, 3, 4]): \"))\n",
    "print(convert_list_to_array(lst))"
   ]
  },
  {
   "cell_type": "markdown",
   "id": "52414771-97a9-4ab9-becd-4221cef73da7",
   "metadata": {},
   "source": [
    "17. Create a NumPy array and use numpy.view() to create a new view with the same\n",
    "data."
   ]
  },
  {
   "cell_type": "code",
   "execution_count": 83,
   "id": "e1e96b9a-fb74-49c0-a33f-e6b6dcd4e1a4",
   "metadata": {},
   "outputs": [
    {
     "name": "stdin",
     "output_type": "stream",
     "text": [
      "Enter array elements:  1 2 3 4 5\n"
     ]
    },
    {
     "name": "stdout",
     "output_type": "stream",
     "text": [
      "Original array: [1 2 3 4 5]\n",
      "View array: [1 2 3 4 5]\n"
     ]
    }
   ],
   "source": [
    "arr = np.array(list(map(int, input(\"Enter array elements: \").split())))\n",
    "view_arr = arr.view()\n",
    "print(\"Original array:\", arr)\n",
    "print(\"View array:\", view_arr)"
   ]
  },
  {
   "cell_type": "markdown",
   "id": "e15c5e9f-b466-4d7b-b6c0-f1aafe5206a1",
   "metadata": {},
   "source": [
    "Concatenation and Stacking"
   ]
  },
  {
   "cell_type": "markdown",
   "id": "e3e2c13a-d791-48d7-8fa8-f1027bcf81f7",
   "metadata": {},
   "source": [
    "18. Write a function to concatenate two NumPy arrays along a specified axis."
   ]
  },
  {
   "cell_type": "code",
   "execution_count": 8,
   "id": "f5df8e58-52eb-44e0-96ac-b5f5c7390cf7",
   "metadata": {},
   "outputs": [],
   "source": [
    "def concatenate_arrays():\n",
    "    arr1 = input(\"Enter elements of first array (space-separated): \")\n",
    "    arr2 = input(\"Enter elements of second array (space-separated): \")\n",
    "    axis = int(input(\"Enter axis (0 for vertical, 1 for horizontal): \"))\n",
    "    a1 = np.array([int(x) for x in arr1.split()])\n",
    "    a2 = np.array([int(x) for x in arr2.split()])\n",
    "    if axis == 1:\n",
    "        a1 = a1.reshape(1, -1)\n",
    "        a2 = a2.reshape(1, -1)\n",
    "    result = np.concatenate((a1, a2), axis=axis)\n",
    "    print(\"Concatenated Array:\\n\", result)"
   ]
  },
  {
   "cell_type": "markdown",
   "id": "248b43b9-b038-4c67-b8c9-193b57361a20",
   "metadata": {},
   "source": [
    "19. Concatenate two arrays with different shapes horizontally using\n",
    "numpy.concatenate."
   ]
  },
  {
   "cell_type": "code",
   "execution_count": 16,
   "id": "726a8f59-d109-4cde-99b0-d1d2b89b3e74",
   "metadata": {},
   "outputs": [
    {
     "name": "stdin",
     "output_type": "stream",
     "text": [
      "Enter number of rows for array a:  3\n"
     ]
    },
    {
     "name": "stdout",
     "output_type": "stream",
     "text": [
      "Enter elements for array a (1 element per row):\n"
     ]
    },
    {
     "name": "stdin",
     "output_type": "stream",
     "text": [
      " 1\n",
      " 2\n",
      " 3\n",
      "Enter number of columns for array b:  2\n",
      "Enter 2 elements for 1 row of array b:  4 5\n"
     ]
    },
    {
     "name": "stdout",
     "output_type": "stream",
     "text": [
      "Concatenated Array:\n",
      " [[1 4 5]\n",
      " [2 4 5]\n",
      " [3 4 5]]\n"
     ]
    }
   ],
   "source": [
    "import numpy as np\n",
    "rows = int(input(\"Enter number of rows for array a: \"))\n",
    "a = []\n",
    "print(\"Enter elements for array a (1 element per row):\")\n",
    "for _ in range(rows):\n",
    "    a.append([int(input())])\n",
    "a = np.array(a)\n",
    "cols = int(input(\"Enter number of columns for array b: \"))\n",
    "b = list(map(int, input(f\"Enter {cols} elements for 1 row of array b: \").split()))\n",
    "b = np.array([b])\n",
    "b_reshaped = np.repeat(b, rows, axis=0)\n",
    "result = np.concatenate((a, b_reshaped), axis=1)\n",
    "print(\"Concatenated Array:\\n\", result)"
   ]
  },
  {
   "cell_type": "markdown",
   "id": "7fbcf63b-7231-4dfb-9610-a49704676b87",
   "metadata": {},
   "source": [
    "\n",
    "20. Vertically stack multiple arrays from a list using numpy.vstack."
   ]
  },
  {
   "cell_type": "code",
   "execution_count": 20,
   "id": "5efb8501-b83e-4f2d-8f66-3768e3cbbb9e",
   "metadata": {},
   "outputs": [
    {
     "name": "stdin",
     "output_type": "stream",
     "text": [
      "Enter number of arrays to stack:  3\n",
      "Enter elements of array 1 (space-separated):  1 2\n",
      "Enter elements of array 2 (space-separated):  2 3\n",
      "Enter elements of array 3 (space-separated):  3 4\n"
     ]
    },
    {
     "name": "stdout",
     "output_type": "stream",
     "text": [
      "\n",
      "Output:\n",
      "[[1 2]\n",
      " [2 3]\n",
      " [3 4]]\n"
     ]
    }
   ],
   "source": [
    "n = int(input(\"Enter number of arrays to stack: \"))\n",
    "arrays = []\n",
    "for i in range(n):\n",
    "    arr = list(map(int, input(f\"Enter elements of array {i+1} (space-separated): \").split()))\n",
    "    arrays.append(np.array(arr))\n",
    "result = np.vstack(arrays)\n",
    "print(\"\\nOutput:\")\n",
    "print(result)"
   ]
  },
  {
   "cell_type": "markdown",
   "id": "1f019b5f-10ee-4f1a-89ff-7fd5fa668369",
   "metadata": {},
   "source": [
    "Array Generation"
   ]
  },
  {
   "cell_type": "markdown",
   "id": "515803df-fb9c-4f98-9fed-186ac85fa13c",
   "metadata": {},
   "source": [
    "21. Write a function to generate an array of integers within a specified range (inclusive)\n",
    "with a step."
   ]
  },
  {
   "cell_type": "code",
   "execution_count": 31,
   "id": "5553cd9a-69ff-44a5-8daa-28ba2b833598",
   "metadata": {},
   "outputs": [
    {
     "name": "stdin",
     "output_type": "stream",
     "text": [
      "Enter start value:  2\n",
      "Enter stop value (inclusive):  10\n",
      "Enter step value:  2\n"
     ]
    },
    {
     "name": "stdout",
     "output_type": "stream",
     "text": [
      "\n",
      "Output:\n",
      "[ 2  4  6  8 10]\n"
     ]
    }
   ],
   "source": [
    "start = int(input(\"Enter start value: \"))\n",
    "stop = int(input(\"Enter stop value (inclusive): \"))\n",
    "step = int(input(\"Enter step value: \"))\n",
    "result = np.arange(start, stop + 1, step)\n",
    "print(\"\\nOutput:\")\n",
    "print(result)"
   ]
  },
  {
   "cell_type": "markdown",
   "id": "5d980467-90b6-4499-b75a-c30ff0434212",
   "metadata": {},
   "source": [
    "22. Generate 10 equally spaced values between 0 and 1 using NumPy."
   ]
  },
  {
   "cell_type": "code",
   "execution_count": 29,
   "id": "17861412-5fd1-4cbd-9963-f7ab37fa09c9",
   "metadata": {},
   "outputs": [
    {
     "name": "stdout",
     "output_type": "stream",
     "text": [
      "\n",
      "Output:\n",
      "[0.         0.11111111 0.22222222 0.33333333 0.44444444 0.55555556\n",
      " 0.66666667 0.77777778 0.88888889 1.        ]\n"
     ]
    }
   ],
   "source": [
    "result = np.linspace(0, 1, 10)\n",
    "print(\"\\nOutput:\")\n",
    "print(result)"
   ]
  },
  {
   "cell_type": "markdown",
   "id": "e9c36ff3-d681-4eb7-b8db-de9bf30c8522",
   "metadata": {},
   "source": [
    "23. Create 5 logarithmically spaced values between 1 and 1000."
   ]
  },
  {
   "cell_type": "code",
   "execution_count": 33,
   "id": "57f46061-9a42-425c-8255-0d0897628a3b",
   "metadata": {},
   "outputs": [
    {
     "name": "stdout",
     "output_type": "stream",
     "text": [
      "\n",
      "Output:\n",
      "[   1.            5.62341325   31.6227766   177.827941   1000.        ]\n"
     ]
    }
   ],
   "source": [
    "result = np.logspace(0, 3, 5)\n",
    "print(\"\\nOutput:\")\n",
    "print(result)"
   ]
  },
  {
   "cell_type": "markdown",
   "id": "a0441245-d62a-4209-ad41-f032fdc4d0c3",
   "metadata": {},
   "source": [
    "Pandas + NumPy"
   ]
  },
  {
   "cell_type": "markdown",
   "id": "bb8c5dca-4e4c-4ca7-8931-b91995d43ed0",
   "metadata": {},
   "source": [
    "24. Create a Pandas DataFrame from a NumPy array with 5 rows and 3 columns of\n",
    "random integers (1-100)."
   ]
  },
  {
   "cell_type": "code",
   "execution_count": 38,
   "id": "49a2185f-d1f4-4bd5-bc66-dce5d80f99e8",
   "metadata": {},
   "outputs": [
    {
     "name": "stdout",
     "output_type": "stream",
     "text": [
      "\n",
      "Output:\n",
      "    A   B   C\n",
      "0  60   6  18\n",
      "1  87  32  27\n",
      "2  97  75   9\n",
      "3  11  97  89\n",
      "4  97  28  34\n"
     ]
    }
   ],
   "source": [
    "import pandas as pd\n",
    "array = np.random.randint(1, 101, size=(5, 3))\n",
    "df = pd.DataFrame(array, columns=['A', 'B', 'C'])\n",
    "print(\"\\nOutput:\")\n",
    "print(df)"
   ]
  },
  {
   "cell_type": "markdown",
   "id": "c8c63a36-2944-4126-9f8f-41db9a55f6a5",
   "metadata": {},
   "source": [
    "25. Write a function to replace all negative values in a specific column with zeros using\n",
    "NumPy."
   ]
  },
  {
   "cell_type": "code",
   "execution_count": 40,
   "id": "61ac4ee1-757e-4f05-b3d5-a5829028d0c5",
   "metadata": {},
   "outputs": [
    {
     "name": "stdin",
     "output_type": "stream",
     "text": [
      "Enter column name to replace negatives with 0:  B\n"
     ]
    },
    {
     "name": "stdout",
     "output_type": "stream",
     "text": [
      "\n",
      "Output:\n",
      "   A  B\n",
      "0  5  2\n",
      "1 -3  0\n",
      "2  7  0\n",
      "3 -1  9\n"
     ]
    }
   ],
   "source": [
    "data = {\n",
    "    'A': [5, -3, 7, -1],\n",
    "    'B': [2, -6, -4, 9]\n",
    "}\n",
    "df = pd.DataFrame(data)\n",
    "col = input(\"Enter column name to replace negatives with 0: \")\n",
    "arr = df[col].values\n",
    "arr[arr < 0] = 0\n",
    "df[col] = arr\n",
    "print(\"\\nOutput:\")\n",
    "print(df)"
   ]
  },
  {
   "cell_type": "markdown",
   "id": "7cd00d8f-4eed-4af1-80e8-5d3d06979483",
   "metadata": {},
   "source": [
    "Indexing and Slicing"
   ]
  },
  {
   "cell_type": "markdown",
   "id": "d04ccdae-41de-479c-aa47-bd03e541f3d1",
   "metadata": {},
   "source": [
    "26. Access the 3rd element from the given NumPy array."
   ]
  },
  {
   "cell_type": "code",
   "execution_count": 50,
   "id": "20355a3f-3ef9-4b95-8afd-5f7dd6b4703e",
   "metadata": {},
   "outputs": [
    {
     "name": "stdin",
     "output_type": "stream",
     "text": [
      "Enter elements of the array (space-separated):  10 20 30 40 50\n"
     ]
    },
    {
     "name": "stdout",
     "output_type": "stream",
     "text": [
      "\n",
      "Output:\n",
      "30\n"
     ]
    }
   ],
   "source": [
    "arr = np.array(list(map(int, input(\"Enter elements of the array (space-separated): \").split())))\n",
    "print(\"\\nOutput:\")\n",
    "print(arr[2])"
   ]
  },
  {
   "cell_type": "markdown",
   "id": "c4871298-5bd0-4a6a-9746-a580ff46a58c",
   "metadata": {},
   "source": [
    "27. Retrieve the element at index (1, 2) from a 2D array."
   ]
  },
  {
   "cell_type": "code",
   "execution_count": 52,
   "id": "bc2d6928-84c6-4e84-b3b8-28e36d6e471e",
   "metadata": {},
   "outputs": [
    {
     "name": "stdout",
     "output_type": "stream",
     "text": [
      "\n",
      "Output:\n",
      "6\n"
     ]
    }
   ],
   "source": [
    "arr = np.array([[1, 2, 3], [4, 5, 6]])\n",
    "print(\"\\nOutput:\")\n",
    "print(arr[1, 2])"
   ]
  },
  {
   "cell_type": "markdown",
   "id": "9c91fc86-87b6-409d-b5ad-dad43ae81647",
   "metadata": {},
   "source": [
    "\n",
    "28. Extract elements greater than 5 using boolean indexing."
   ]
  },
  {
   "cell_type": "code",
   "execution_count": 58,
   "id": "0495198d-88aa-418f-b90b-bb4dd703c392",
   "metadata": {},
   "outputs": [
    {
     "name": "stdin",
     "output_type": "stream",
     "text": [
      "Enter array elements (space-separated):  3 7 5 1 2\n"
     ]
    },
    {
     "name": "stdout",
     "output_type": "stream",
     "text": [
      "\n",
      "Output:\n",
      "[7]\n"
     ]
    }
   ],
   "source": [
    "arr = np.array(list(map(int, input(\"Enter array elements (space-separated): \").split())))\n",
    "print(\"\\nOutput:\")\n",
    "print(arr[arr > 5])"
   ]
  },
  {
   "cell_type": "markdown",
   "id": "a722ab6c-2730-4b6b-8ea3-d99587f44787",
   "metadata": {},
   "source": [
    "\n",
    "29. Slice elements from index 2 to 5 (inclusive) from a NumPy array."
   ]
  },
  {
   "cell_type": "code",
   "execution_count": 60,
   "id": "1b0db309-bd80-4e8b-8d65-3d29ca7a78f5",
   "metadata": {},
   "outputs": [
    {
     "name": "stdin",
     "output_type": "stream",
     "text": [
      "Enter array elements (space-separated):  10 12 14 56 45\n"
     ]
    },
    {
     "name": "stdout",
     "output_type": "stream",
     "text": [
      "\n",
      "Output:\n",
      "[14 56 45]\n"
     ]
    }
   ],
   "source": [
    "arr = np.array(list(map(int, input(\"Enter array elements (space-separated): \").split())))\n",
    "print(\"\\nOutput:\")\n",
    "print(arr[2:6])"
   ]
  },
  {
   "cell_type": "markdown",
   "id": "6a149822-180e-4f65-867a-d2b50622fae4",
   "metadata": {},
   "source": [
    "\n",
    "30. Slice the sub-array [[2, 3], [5, 6]] from a 2D array."
   ]
  },
  {
   "cell_type": "code",
   "execution_count": 62,
   "id": "bff955d7-069f-4fc1-b875-fc22a8dffa2c",
   "metadata": {},
   "outputs": [
    {
     "name": "stdout",
     "output_type": "stream",
     "text": [
      "\n",
      "Output:\n",
      "[[2 3]\n",
      " [5 6]]\n"
     ]
    }
   ],
   "source": [
    "arr = np.array([[1, 2, 3], [4, 5, 6], [7, 8, 9]])\n",
    "print(\"\\nOutput:\")\n",
    "print(arr[0:2, 1:3])"
   ]
  }
 ],
 "metadata": {
  "kernelspec": {
   "display_name": "Python 3 (ipykernel)",
   "language": "python",
   "name": "python3"
  },
  "language_info": {
   "codemirror_mode": {
    "name": "ipython",
    "version": 3
   },
   "file_extension": ".py",
   "mimetype": "text/x-python",
   "name": "python",
   "nbconvert_exporter": "python",
   "pygments_lexer": "ipython3",
   "version": "3.12.7"
  }
 },
 "nbformat": 4,
 "nbformat_minor": 5
}
